{
 "cells": [
  {
   "cell_type": "markdown",
   "id": "14bd7e1c",
   "metadata": {},
   "source": [
    "C1+C6 maja bardzo czyste nalozenie pola widzenia ale ciezko bedzie przez wiele ludzi"
   ]
  },
  {
   "cell_type": "code",
   "execution_count": null,
   "id": "f74044ab",
   "metadata": {},
   "outputs": [],
   "source": [
    "import torch\n",
    "import torch.nn as nn\n",
    "\n",
    "class TrackEmbeddingUpdater(nn.Module):\n",
    "    def __init__(self, num_cameras, embed_dim=256, num_heads=8):\n",
    "        super().__init__()\n",
    "        self.num_cameras = num_cameras\n",
    "        \n",
    "        self.camera_cross_attn = nn.ModuleList([\n",
    "            nn.MultiheadAttention(embed_dim, num_heads, batch_first=True)\n",
    "            for _ in range(num_cameras)\n",
    "        ])\n",
    "        \n",
    "        self.self_attn = nn.MultiheadAttention(embed_dim, num_heads, batch_first=True)\n",
    "        \n",
    "        self.ffn = nn.Sequential(\n",
    "            nn.Linear(embed_dim, 2048),\n",
    "            nn.ReLU(),\n",
    "            nn.Linear(2048, embed_dim)\n",
    "        )\n",
    "\n",
    "    def forward(self, track_embeds, detection_embeds_per_camera):\n",
    "        cross_attn_outputs = []\n",
    "        for cam_idx in range(self.num_cameras):\n",
    "            attn_out, _ = self.camera_cross_attn[cam_idx](\n",
    "                query=track_embeds,\n",
    "                key=detection_embeds_per_camera[cam_idx],\n",
    "                value=detection_embeds_per_camera[cam_idx]\n",
    "            )\n",
    "            cross_attn_outputs.append(attn_out)\n",
    "        \n",
    "        averaged = torch.mean(torch.stack(cross_attn_outputs), dim=0)\n",
    "        \n",
    "        self_attn_out, _ = self.self_attn(averaged, averaged, averaged)\n",
    "        \n",
    "        updated_tracks = self.ffn(self_attn_out)\n",
    "        \n",
    "        return updated_tracks"
   ]
  },
  {
   "cell_type": "code",
   "execution_count": null,
   "id": "c02f7754",
   "metadata": {},
   "outputs": [],
   "source": [
    "import torch\n",
    "import torch.nn as nn\n",
    "from scipy.optimize import linear_sum_assignment\n",
    "\n",
    "class AssociationModule(nn.Module):\n",
    "    def __init__(self, embed_dim=256, temp=1.0):\n",
    "        super().__init__()\n",
    "        self.temp = temp  \n",
    "        \n",
    "        self.detection_proj = nn.Linear(embed_dim, embed_dim, bias=False)\n",
    "        self.track_proj = nn.Linear(embed_dim, embed_dim, bias=False)\n",
    "        \n",
    "    def forward(self, detection_embeds, track_embeds):\n",
    "\n",
    "        Q = self.detection_proj(detection_embeds) \n",
    "        K = self.track_proj(track_embeds)         \n",
    "        \n",
    "        similarity = torch.matmul(Q, K.transpose(1,2))  \n",
    "        \n",
    "        assignment = torch.softmax(similarity / (self.temp * (Q.size(-1)**0.5)), dim=-1)\n",
    "        \n",
    "        return assignment\n",
    "    \n",
    "    @torch.no_grad()\n",
    "    def hungarian_assignment(self, assignment_matrix):\n",
    "        \"\"\"\n",
    "        assignment_matrix: [B, D, T]\n",
    "        Returns: list of matched indices per batch\n",
    "        \"\"\"\n",
    "        batch_indices = []\n",
    "        for b in range(assignment_matrix.size(0)):\n",
    "            cost_matrix = -assignment_matrix[b].cpu().numpy()\n",
    "            row_ind, col_ind = linear_sum_assignment(cost_matrix)\n",
    "            batch_indices.append((row_ind, col_ind))\n",
    "        return batch_indices\n"
   ]
  },
  {
   "cell_type": "code",
   "execution_count": null,
   "id": "d5780314",
   "metadata": {},
   "outputs": [],
   "source": [
    "import torch\n",
    "import torch.nn as nn\n",
    "from transformers import DetrImageProcessor, DetrForObjectDetection\n",
    "\n",
    "\n",
    "class MCTR(nn.Module):\n",
    "    def __init__(self, num_cameras=2, num_queries=100, embed_dim=256, num_heads=8):\n",
    "        super().__init__()\n",
    "        self.detr_fod = DetrForObjectDetection.from_pretrained(\"facebook/detr-resnet-50\")\n",
    "        self.detr_fod.requires_grad_(False)\n",
    "        self.detr_ip = DetrImageProcessor.from_pretrained(\"facebook/detr-resnet-50\")\n",
    "        self.detr_ip.requires_grad_(False)\n",
    "        self.track_embeddings = nn.Embedding(num_queries, embed_dim)  \n",
    "        self.tracking_module = TrackEmbeddingUpdater(num_cameras, embed_dim, num_heads)\n",
    "        self.association_module = AssociationModule(embed_dim)\n",
    "\n"
   ]
  }
 ],
 "metadata": {
  "kernelspec": {
   "display_name": "Python 3",
   "language": "python",
   "name": "python3"
  },
  "language_info": {
   "codemirror_mode": {
    "name": "ipython",
    "version": 3
   },
   "file_extension": ".py",
   "mimetype": "text/x-python",
   "name": "python",
   "nbconvert_exporter": "python",
   "pygments_lexer": "ipython3",
   "version": "3.11.9"
  }
 },
 "nbformat": 4,
 "nbformat_minor": 5
}
